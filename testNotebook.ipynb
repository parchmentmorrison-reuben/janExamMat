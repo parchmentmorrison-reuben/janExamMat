{
 "metadata": {
  "language_info": {
   "codemirror_mode": {
    "name": "ipython",
    "version": 3
   },
   "file_extension": ".py",
   "mimetype": "text/x-python",
   "name": "python",
   "nbconvert_exporter": "python",
   "pygments_lexer": "ipython3",
   "version": "3.7.3-final"
  },
  "orig_nbformat": 2,
  "kernelspec": {
   "name": "python3",
   "display_name": "Python 3.7.3 64-bit ('base': conda)",
   "metadata": {
    "interpreter": {
     "hash": "b3e23c9dfa489b3f3649ddcf02b74a1d13bd899a2e139a11c5c8e7668d4501f5"
    }
   }
  }
 },
 "nbformat": 4,
 "nbformat_minor": 2,
 "cells": [
  {
   "source": [
    "# Sympy for Quantum Mechanics"
   ],
   "cell_type": "markdown",
   "metadata": {}
  },
  {
   "source": [
    "Using `help(**desired function**)`, replacing `**desired function**` with what you want to check, `sympy` will give you an explantion of how to use it and what modifiers can be added."
   ],
   "cell_type": "markdown",
   "metadata": {}
  },
  {
   "cell_type": "code",
   "execution_count": 2,
   "metadata": {},
   "outputs": [],
   "source": [
    "from sympy import *\n",
    "init_printing()"
   ]
  },
  {
   "source": [
    "## Symbolic Variables"
   ],
   "cell_type": "markdown",
   "metadata": {}
  },
  {
   "cell_type": "code",
   "execution_count": 3,
   "metadata": {},
   "outputs": [],
   "source": [
    "x = Symbol(\"x\")"
   ]
  },
  {
   "cell_type": "code",
   "execution_count": 4,
   "metadata": {},
   "outputs": [
    {
     "output_type": "execute_result",
     "data": {
      "text/plain": [
       "       2\n",
       "(x + π) "
      ],
      "image/png": "[encoded data removed]",
      "text/latex": "$$\\left(x + \\pi\\right)^{2}$$"
     },
     "metadata": {},
     "execution_count": 4
    }
   ],
   "source": [
    "(pi+x)**2"
   ]
  },
  {
   "cell_type": "code",
   "execution_count": 6,
   "metadata": {},
   "outputs": [],
   "source": [
    "a,b,c = symbols(\"a, b, c\")"
   ]
  },
  {
   "cell_type": "code",
   "execution_count": 7,
   "metadata": {},
   "outputs": [
    {
     "output_type": "execute_result",
     "data": {
      "text/plain": [
       "sympy.core.symbol.Symbol"
      ]
     },
     "metadata": {},
     "execution_count": 7
    }
   ],
   "source": [
    "type(a)"
   ]
  },
  {
   "cell_type": "code",
   "execution_count": 8,
   "metadata": {},
   "outputs": [],
   "source": [
    "x = Symbol(\"x\", real=True)"
   ]
  },
  {
   "cell_type": "code",
   "execution_count": 9,
   "metadata": {},
   "outputs": [
    {
     "output_type": "execute_result",
     "data": {
      "text/plain": [
       "False"
      ]
     },
     "metadata": {},
     "execution_count": 9
    }
   ],
   "source": [
    "x.is_imaginary"
   ]
  },
  {
   "cell_type": "code",
   "execution_count": 10,
   "metadata": {},
   "outputs": [],
   "source": [
    "x = Symbol(\"x\", positive=True)"
   ]
  },
  {
   "cell_type": "code",
   "execution_count": 11,
   "metadata": {},
   "outputs": [
    {
     "output_type": "execute_result",
     "data": {
      "text/plain": [
       "True"
      ],
      "image/png": "[encoded data removed]",
      "text/latex": "$$\\mathrm{True}$$"
     },
     "metadata": {},
     "execution_count": 11
    }
   ],
   "source": [
    "x>0"
   ]
  },
  {
   "source": [
    "### Complex variables"
   ],
   "cell_type": "markdown",
   "metadata": {}
  },
  {
   "source": [
    "$\\sqrt{-1}$ is `I` "
   ],
   "cell_type": "markdown",
   "metadata": {}
  },
  {
   "cell_type": "code",
   "execution_count": 14,
   "metadata": {},
   "outputs": [
    {
     "output_type": "execute_result",
     "data": {
      "text/plain": [
       "1 + ⅈ"
      ],
      "image/png": "[encoded data removed]",
      "text/latex": "$$1 + i$$"
     },
     "metadata": {},
     "execution_count": 14
    }
   ],
   "source": [
    "1+1*I"
   ]
  },
  {
   "cell_type": "code",
   "execution_count": 15,
   "metadata": {},
   "outputs": [
    {
     "output_type": "execute_result",
     "data": {
      "text/plain": [
       "-1"
      ],
      "image/png": "[encoded data removed]",
      "text/latex": "$$-1$$"
     },
     "metadata": {},
     "execution_count": 15
    }
   ],
   "source": [
    "I**2"
   ]
  },
  {
   "cell_type": "code",
   "execution_count": 16,
   "metadata": {},
   "outputs": [
    {
     "output_type": "execute_result",
     "data": {
      "text/plain": [
       "         2\n",
       "(ⅈ⋅x + 1) "
      ],
      "image/png": "[encoded data removed]",
      "text/latex": "$$\\left(i x + 1\\right)^{2}$$"
     },
     "metadata": {},
     "execution_count": 16
    }
   ],
   "source": [
    "(x*I+1)**2"
   ]
  },
  {
   "source": [
    "### Rational numbers"
   ],
   "cell_type": "markdown",
   "metadata": {}
  },
  {
   "source": [
    "There are 3 different numerical types in base sympy. `Real`, `Rational` and `Integer`"
   ],
   "cell_type": "markdown",
   "metadata": {}
  },
  {
   "cell_type": "code",
   "execution_count": 18,
   "metadata": {},
   "outputs": [],
   "source": [
    "r1 = Rational(4,5)\n",
    "r2 = Rational(5,4)"
   ]
  },
  {
   "cell_type": "code",
   "execution_count": 19,
   "metadata": {},
   "outputs": [
    {
     "output_type": "execute_result",
     "data": {
      "text/plain": [
       "4/5"
      ],
      "image/png": "[encoded data removed]",
      "text/latex": "$$\\frac{4}{5}$$"
     },
     "metadata": {},
     "execution_count": 19
    }
   ],
   "source": [
    "r1"
   ]
  },
  {
   "cell_type": "code",
   "execution_count": 20,
   "metadata": {},
   "outputs": [
    {
     "output_type": "execute_result",
     "data": {
      "text/plain": [
       "41\n",
       "──\n",
       "20"
      ],
      "image/png": "[encoded data removed]",
      "text/latex": "$$\\frac{41}{20}$$"
     },
     "metadata": {},
     "execution_count": 20
    }
   ],
   "source": [
    "r1+r2"
   ]
  },
  {
   "cell_type": "code",
   "execution_count": 21,
   "metadata": {},
   "outputs": [
    {
     "output_type": "execute_result",
     "data": {
      "text/plain": [
       "16\n",
       "──\n",
       "25"
      ],
      "image/png": "[encoded data removed]",
      "text/latex": "$$\\frac{16}{25}$$"
     },
     "metadata": {},
     "execution_count": 21
    }
   ],
   "source": [
    "r1/r2"
   ]
  },
  {
   "source": [
    "## Numerical Evaluation"
   ],
   "cell_type": "markdown",
   "metadata": {}
  },
  {
   "cell_type": "code",
   "execution_count": 22,
   "metadata": {},
   "outputs": [
    {
     "output_type": "execute_result",
     "data": {
      "text/plain": [
       "3.1415926535897932384626433832795028841971693993751"
      ],
      "image/png": "[encoded data removed]",
      "text/latex": "$$3.1415926535897932384626433832795028841971693993751$$"
     },
     "metadata": {},
     "execution_count": 22
    }
   ],
   "source": [
    "pi.evalf(n=50)"
   ]
  },
  {
   "cell_type": "code",
   "execution_count": 23,
   "metadata": {},
   "outputs": [],
   "source": [
    "y = (x + pi)**2"
   ]
  },
  {
   "cell_type": "code",
   "execution_count": 27,
   "metadata": {},
   "outputs": [
    {
     "output_type": "display_data",
     "data": {
      "text/plain": "            2\n(x + 3.1416) ",
      "image/png": "[encoded data removed]",
      "text/latex": "$$\\left(x + 3.1416\\right)^{2}$$"
     },
     "metadata": {}
    },
    {
     "output_type": "display_data",
     "data": {
      "text/plain": "            2\n(x + 3.1416) ",
      "image/png": "[encoded data removed]",
      "text/latex": "$$\\left(x + 3.1416\\right)^{2}$$"
     },
     "metadata": {}
    }
   ],
   "source": [
    "display( N(y, 5) )\n",
    "display( y.evalf(n=5) )"
   ]
  },
  {
   "cell_type": "code",
   "execution_count": 28,
   "metadata": {},
   "outputs": [
    {
     "output_type": "execute_result",
     "data": {
      "text/plain": [
       "         2\n",
       "(1.5 + π) "
      ],
      "image/png": "[encoded data removed]",
      "text/latex": "$$\\left(1.5 + \\pi\\right)^{2}$$"
     },
     "metadata": {},
     "execution_count": 28
    }
   ],
   "source": [
    "y.subs(x, 1.5)"
   ]
  },
  {
   "cell_type": "code",
   "execution_count": 29,
   "metadata": {},
   "outputs": [
    {
     "output_type": "execute_result",
     "data": {
      "text/plain": [
       "21.5443823618587"
      ],
      "image/png": "[encoded data removed]",
      "text/latex": "$$21.5443823618587$$"
     },
     "metadata": {},
     "execution_count": 29
    }
   ],
   "source": [
    "N(y.subs(x, 1.5))"
   ]
  },
  {
   "cell_type": "code",
   "execution_count": 30,
   "metadata": {},
   "outputs": [
    {
     "output_type": "execute_result",
     "data": {
      "text/plain": [
       "         2\n",
       "(a + 2⋅π) "
      ],
      "image/png": "[encoded data removed]",
      "text/latex": "$$\\left(a + 2 \\pi\\right)^{2}$$"
     },
     "metadata": {},
     "execution_count": 30
    }
   ],
   "source": [
    "y.subs(x, a+pi)"
   ]
  },
  {
   "source": [
    "`lambdify` we can make computing numerical evaluations faster"
   ],
   "cell_type": "markdown",
   "metadata": {}
  },
  {
   "cell_type": "code",
   "execution_count": 42,
   "metadata": {},
   "outputs": [],
   "source": [
    "f = lambdify([x], (x + pi)**2, 'numpy')"
   ]
  },
  {
   "cell_type": "code",
   "execution_count": 43,
   "metadata": {},
   "outputs": [],
   "source": [
    "y_vec = f(x_vec)"
   ]
  },
  {
   "source": [
    "## Algebratic Manipulation"
   ],
   "cell_type": "markdown",
   "metadata": {}
  },
  {
   "source": [
    "### Expand and Factor"
   ],
   "cell_type": "markdown",
   "metadata": {}
  },
  {
   "cell_type": "code",
   "execution_count": 48,
   "metadata": {},
   "outputs": [
    {
     "output_type": "execute_result",
     "data": {
      "text/plain": [
       "(x + 1)⋅(x + 2)⋅(x + 3)"
      ],
      "image/png": "[encoded data removed]",
      "text/latex": "$$\\left(x + 1\\right) \\left(x + 2\\right) \\left(x + 3\\right)$$"
     },
     "metadata": {},
     "execution_count": 48
    }
   ],
   "source": [
    "(x+1)*(x+2)*(x+3)"
   ]
  },
  {
   "cell_type": "code",
   "execution_count": 49,
   "metadata": {},
   "outputs": [
    {
     "output_type": "execute_result",
     "data": {
      "text/plain": [
       " 3      2           \n",
       "x  + 6⋅x  + 11⋅x + 6"
      ],
      "image/png": "[encoded data removed]",
      "text/latex": "$$x^{3} + 6 x^{2} + 11 x + 6$$"
     },
     "metadata": {},
     "execution_count": 49
    }
   ],
   "source": [
    "expand((x+1)*(x+2)*(x+3))"
   ]
  },
  {
   "cell_type": "code",
   "execution_count": 50,
   "metadata": {},
   "outputs": [
    {
     "output_type": "execute_result",
     "data": {
      "text/plain": [
       "sin(a + b)"
      ],
      "image/png": "[encoded data removed]",
      "text/latex": "$$\\sin{\\left (a + b \\right )}$$"
     },
     "metadata": {},
     "execution_count": 50
    }
   ],
   "source": [
    "sin(a+b)"
   ]
  },
  {
   "cell_type": "code",
   "execution_count": 51,
   "metadata": {},
   "outputs": [
    {
     "output_type": "execute_result",
     "data": {
      "text/plain": [
       "sin(a)⋅cos(b) + sin(b)⋅cos(a)"
      ],
      "image/png": "[encoded data removed]",
      "text/latex": "$$\\sin{\\left (a \\right )} \\cos{\\left (b \\right )} + \\sin{\\left (b \\right )} \\cos{\\left (a \\right )}$$"
     },
     "metadata": {},
     "execution_count": 51
    }
   ],
   "source": [
    "expand(sin(a+b), trig=True)"
   ]
  },
  {
   "cell_type": "code",
   "execution_count": 52,
   "metadata": {},
   "outputs": [
    {
     "output_type": "stream",
     "name": "stdout",
     "text": [
      "Help on function expand in module sympy.core.function:\n\nexpand(e, deep=True, modulus=None, power_base=True, power_exp=True, mul=True, log=True, multinomial=True, basic=True, **hints)\n    Expand an expression using methods given as hints.\n    \n    Hints evaluated unless explicitly set to False are:  ``basic``, ``log``,\n    ``multinomial``, ``mul``, ``power_base``, and ``power_exp`` The following\n    hints are supported but not applied unless set to True:  ``complex``,\n    ``func``, and ``trig``.  In addition, the following meta-hints are\n    supported by some or all of the other hints:  ``frac``, ``numer``,\n    ``denom``, ``modulus``, and ``force``.  ``deep`` is supported by all\n    hints.  Additionally, subclasses of Expr may define their own hints or\n    meta-hints.\n    \n    The ``basic`` hint is used for any special rewriting of an object that\n    should be done automatically (along with the other hints like ``mul``)\n    when expand is called. This is a catch-all hint to handle any sort of\n    expansion that may not be described by the existing hint names. To use\n    this hint an object should override the ``_eval_expand_basic`` method.\n    Objects may also define their own expand methods, which are not run by\n    default.  See the API section below.\n    \n    If ``deep`` is set to ``True`` (the default), things like arguments of\n    functions are recursively expanded.  Use ``deep=False`` to only expand on\n    the top level.\n    \n    If the ``force`` hint is used, assumptions about variables will be ignored\n    in making the expansion.\n    \n    Hints\n    =====\n    \n    These hints are run by default\n    \n    mul\n    ---\n    \n    Distributes multiplication over addition:\n    \n    >>> from sympy import cos, exp, sin\n    >>> from sympy.abc import x, y, z\n    >>> (y*(x + z)).expand(mul=True)\n    x*y + y*z\n    \n    multinomial\n    -----------\n    \n    Expand (x + y + ...)**n where n is a positive integer.\n    \n    >>> ((x + y + z)**2).expand(multinomial=True)\n    x**2 + 2*x*y + 2*x*z + y**2 + 2*y*z + z**2\n    \n    power_exp\n    ---------\n    \n    Expand addition in exponents into multiplied bases.\n    \n    >>> exp(x + y).expand(power_exp=True)\n    exp(x)*exp(y)\n    >>> (2**(x + y)).expand(power_exp=True)\n    2**x*2**y\n    \n    power_base\n    ----------\n    \n    Split powers of multiplied bases.\n    \n    This only happens by default if assumptions allow, or if the\n    ``force`` meta-hint is used:\n    \n    >>> ((x*y)**z).expand(power_base=True)\n    (x*y)**z\n    >>> ((x*y)**z).expand(power_base=True, force=True)\n    x**z*y**z\n    >>> ((2*y)**z).expand(power_base=True)\n    2**z*y**z\n    \n    Note that in some cases where this expansion always holds, SymPy performs\n    it automatically:\n    \n    >>> (x*y)**2\n    x**2*y**2\n    \n    log\n    ---\n    \n    Pull out power of an argument as a coefficient and split logs products\n    into sums of logs.\n    \n    Note that these only work if the arguments of the log function have the\n    proper assumptions--the arguments must be positive and the exponents must\n    be real--or else the ``force`` hint must be True:\n    \n    >>> from sympy import log, symbols\n    >>> log(x**2*y).expand(log=True)\n    log(x**2*y)\n    >>> log(x**2*y).expand(log=True, force=True)\n    2*log(x) + log(y)\n    >>> x, y = symbols('x,y', positive=True)\n    >>> log(x**2*y).expand(log=True)\n    2*log(x) + log(y)\n    \n    basic\n    -----\n    \n    This hint is intended primarily as a way for custom subclasses to enable\n    expansion by default.\n    \n    These hints are not run by default:\n    \n    complex\n    -------\n    \n    Split an expression into real and imaginary parts.\n    \n    >>> x, y = symbols('x,y')\n    >>> (x + y).expand(complex=True)\n    re(x) + re(y) + I*im(x) + I*im(y)\n    >>> cos(x).expand(complex=True)\n    -I*sin(re(x))*sinh(im(x)) + cos(re(x))*cosh(im(x))\n    \n    Note that this is just a wrapper around ``as_real_imag()``.  Most objects\n    that wish to redefine ``_eval_expand_complex()`` should consider\n    redefining ``as_real_imag()`` instead.\n    \n    func\n    ----\n    \n    Expand other functions.\n    \n    >>> from sympy import gamma\n    >>> gamma(x + 1).expand(func=True)\n    x*gamma(x)\n    \n    trig\n    ----\n    \n    Do trigonometric expansions.\n    \n    >>> cos(x + y).expand(trig=True)\n    -sin(x)*sin(y) + cos(x)*cos(y)\n    >>> sin(2*x).expand(trig=True)\n    2*sin(x)*cos(x)\n    \n    Note that the forms of ``sin(n*x)`` and ``cos(n*x)`` in terms of ``sin(x)``\n    and ``cos(x)`` are not unique, due to the identity `\\sin^2(x) + \\cos^2(x)\n    = 1`.  The current implementation uses the form obtained from Chebyshev\n    polynomials, but this may change.  See `this MathWorld article\n    <http://mathworld.wolfram.com/Multiple-AngleFormulas.html>`_ for more\n    information.\n    \n    Notes\n    =====\n    \n    - You can shut off unwanted methods::\n    \n        >>> (exp(x + y)*(x + y)).expand()\n        x*exp(x)*exp(y) + y*exp(x)*exp(y)\n        >>> (exp(x + y)*(x + y)).expand(power_exp=False)\n        x*exp(x + y) + y*exp(x + y)\n        >>> (exp(x + y)*(x + y)).expand(mul=False)\n        (x + y)*exp(x)*exp(y)\n    \n    - Use deep=False to only expand on the top level::\n    \n        >>> exp(x + exp(x + y)).expand()\n        exp(x)*exp(exp(x)*exp(y))\n        >>> exp(x + exp(x + y)).expand(deep=False)\n        exp(x)*exp(exp(x + y))\n    \n    - Hints are applied in an arbitrary, but consistent order (in the current\n      implementation, they are applied in alphabetical order, except\n      multinomial comes before mul, but this may change).  Because of this,\n      some hints may prevent expansion by other hints if they are applied\n      first. For example, ``mul`` may distribute multiplications and prevent\n      ``log`` and ``power_base`` from expanding them. Also, if ``mul`` is\n      applied before ``multinomial`, the expression might not be fully\n      distributed. The solution is to use the various ``expand_hint`` helper\n      functions or to use ``hint=False`` to this function to finely control\n      which hints are applied. Here are some examples::\n    \n        >>> from sympy import expand, expand_mul, expand_power_base\n        >>> x, y, z = symbols('x,y,z', positive=True)\n    \n        >>> expand(log(x*(y + z)))\n        log(x) + log(y + z)\n    \n      Here, we see that ``log`` was applied before ``mul``.  To get the mul\n      expanded form, either of the following will work::\n    \n        >>> expand_mul(log(x*(y + z)))\n        log(x*y + x*z)\n        >>> expand(log(x*(y + z)), log=False)\n        log(x*y + x*z)\n    \n      A similar thing can happen with the ``power_base`` hint::\n    \n        >>> expand((x*(y + z))**x)\n        (x*y + x*z)**x\n    \n      To get the ``power_base`` expanded form, either of the following will\n      work::\n    \n        >>> expand((x*(y + z))**x, mul=False)\n        x**x*(y + z)**x\n        >>> expand_power_base((x*(y + z))**x)\n        x**x*(y + z)**x\n    \n        >>> expand((x + y)*y/x)\n        y + y**2/x\n    \n      The parts of a rational expression can be targeted::\n    \n        >>> expand((x + y)*y/x/(x + 1), frac=True)\n        (x*y + y**2)/(x**2 + x)\n        >>> expand((x + y)*y/x/(x + 1), numer=True)\n        (x*y + y**2)/(x*(x + 1))\n        >>> expand((x + y)*y/x/(x + 1), denom=True)\n        y*(x + y)/(x**2 + x)\n    \n    - The ``modulus`` meta-hint can be used to reduce the coefficients of an\n      expression post-expansion::\n    \n        >>> expand((3*x + 1)**2)\n        9*x**2 + 6*x + 1\n        >>> expand((3*x + 1)**2, modulus=5)\n        4*x**2 + x + 1\n    \n    - Either ``expand()`` the function or ``.expand()`` the method can be\n      used.  Both are equivalent::\n    \n        >>> expand((x + 1)**2)\n        x**2 + 2*x + 1\n        >>> ((x + 1)**2).expand()\n        x**2 + 2*x + 1\n    \n    API\n    ===\n    \n    Objects can define their own expand hints by defining\n    ``_eval_expand_hint()``.  The function should take the form::\n    \n        def _eval_expand_hint(self, **hints):\n            # Only apply the method to the top-level expression\n            ...\n    \n    See also the example below.  Objects should define ``_eval_expand_hint()``\n    methods only if ``hint`` applies to that specific object.  The generic\n    ``_eval_expand_hint()`` method defined in Expr will handle the no-op case.\n    \n    Each hint should be responsible for expanding that hint only.\n    Furthermore, the expansion should be applied to the top-level expression\n    only.  ``expand()`` takes care of the recursion that happens when\n    ``deep=True``.\n    \n    You should only call ``_eval_expand_hint()`` methods directly if you are\n    100% sure that the object has the method, as otherwise you are liable to\n    get unexpected ``AttributeError``s.  Note, again, that you do not need to\n    recursively apply the hint to args of your object: this is handled\n    automatically by ``expand()``.  ``_eval_expand_hint()`` should\n    generally not be used at all outside of an ``_eval_expand_hint()`` method.\n    If you want to apply a specific expansion from within another method, use\n    the public ``expand()`` function, method, or ``expand_hint()`` functions.\n    \n    In order for expand to work, objects must be rebuildable by their args,\n    i.e., ``obj.func(*obj.args) == obj`` must hold.\n    \n    Expand methods are passed ``**hints`` so that expand hints may use\n    'metahints'--hints that control how different expand methods are applied.\n    For example, the ``force=True`` hint described above that causes\n    ``expand(log=True)`` to ignore assumptions is such a metahint.  The\n    ``deep`` meta-hint is handled exclusively by ``expand()`` and is not\n    passed to ``_eval_expand_hint()`` methods.\n    \n    Note that expansion hints should generally be methods that perform some\n    kind of 'expansion'.  For hints that simply rewrite an expression, use the\n    .rewrite() API.\n    \n    Examples\n    ========\n    \n    >>> from sympy import Expr, sympify\n    >>> class MyClass(Expr):\n    ...     def __new__(cls, *args):\n    ...         args = sympify(args)\n    ...         return Expr.__new__(cls, *args)\n    ...\n    ...     def _eval_expand_double(self, **hints):\n    ...         '''\n    ...         Doubles the args of MyClass.\n    ...\n    ...         If there more than four args, doubling is not performed,\n    ...         unless force=True is also used (False by default).\n    ...         '''\n    ...         force = hints.pop('force', False)\n    ...         if not force and len(self.args) > 4:\n    ...             return self\n    ...         return self.func(*(self.args + self.args))\n    ...\n    >>> a = MyClass(1, 2, MyClass(3, 4))\n    >>> a\n    MyClass(1, 2, MyClass(3, 4))\n    >>> a.expand(double=True)\n    MyClass(1, 2, MyClass(3, 4, 3, 4), 1, 2, MyClass(3, 4, 3, 4))\n    >>> a.expand(double=True, deep=False)\n    MyClass(1, 2, MyClass(3, 4), 1, 2, MyClass(3, 4))\n    \n    >>> b = MyClass(1, 2, 3, 4, 5)\n    >>> b.expand(double=True)\n    MyClass(1, 2, 3, 4, 5)\n    >>> b.expand(double=True, force=True)\n    MyClass(1, 2, 3, 4, 5, 1, 2, 3, 4, 5)\n    \n    See Also\n    ========\n    \n    expand_log, expand_mul, expand_multinomial, expand_complex, expand_trig,\n    expand_power_base, expand_power_exp, expand_func, hyperexpand\n\n"
     ]
    }
   ],
   "source": [
    "help(expand)"
   ]
  },
  {
   "source": [
    "### Simplify"
   ],
   "cell_type": "markdown",
   "metadata": {}
  },
  {
   "cell_type": "code",
   "execution_count": 54,
   "metadata": {},
   "outputs": [
    {
     "output_type": "execute_result",
     "data": {
      "text/plain": [
       "(x + 1)⋅(x + 2)⋅(x + 3)"
      ],
      "image/png": "[encoded data removed]",
      "text/latex": "$$\\left(x + 1\\right) \\left(x + 2\\right) \\left(x + 3\\right)$$"
     },
     "metadata": {},
     "execution_count": 54
    }
   ],
   "source": [
    "simplify((x+1)*(x+2)*(x+3))"
   ]
  },
  {
   "cell_type": "code",
   "execution_count": 55,
   "metadata": {},
   "outputs": [
    {
     "output_type": "execute_result",
     "data": {
      "text/plain": [
       "1"
      ],
      "image/png": "[encoded data removed]",
      "text/latex": "$$1$$"
     },
     "metadata": {},
     "execution_count": 55
    }
   ],
   "source": [
    "simplify(sin(a)**2 + cos(a)**2)"
   ]
  },
  {
   "cell_type": "code",
   "execution_count": 56,
   "metadata": {},
   "outputs": [
    {
     "output_type": "execute_result",
     "data": {
      "text/plain": [
       "  1   \n",
       "──────\n",
       "tan(x)"
      ],
      "image/png": "[encoded data removed]",
      "text/latex": "$$\\frac{1}{\\tan{\\left (x \\right )}}$$"
     },
     "metadata": {},
     "execution_count": 56
    }
   ],
   "source": [
    "simplify(cos(x)/sin(x))"
   ]
  },
  {
   "source": [
    "### `apart` and `together`"
   ],
   "cell_type": "markdown",
   "metadata": {}
  },
  {
   "cell_type": "code",
   "execution_count": 63,
   "metadata": {},
   "outputs": [
    {
     "output_type": "execute_result",
     "data": {
      "text/plain": [
       "       1       \n",
       "───────────────\n",
       "(a + 1)⋅(a + 2)"
      ],
      "image/png": "[encoded data removed]",
      "text/latex": "$$\\frac{1}{\\left(a + 1\\right) \\left(a + 2\\right)}$$"
     },
     "metadata": {},
     "execution_count": 63
    }
   ],
   "source": [
    "f1 = 1/((a+1)*(a+2))\n",
    "f1"
   ]
  },
  {
   "cell_type": "code",
   "execution_count": 59,
   "metadata": {},
   "outputs": [
    {
     "output_type": "execute_result",
     "data": {
      "text/plain": [
       "    1       1  \n",
       "- ───── + ─────\n",
       "  a + 2   a + 1"
      ],
      "image/png": "[encoded data removed]",
      "text/latex": "$$- \\frac{1}{a + 2} + \\frac{1}{a + 1}$$"
     },
     "metadata": {},
     "execution_count": 59
    }
   ],
   "source": [
    "apart(f1)"
   ]
  },
  {
   "cell_type": "code",
   "execution_count": 61,
   "metadata": {},
   "outputs": [
    {
     "output_type": "execute_result",
     "data": {
      "text/plain": [
       "  1       1  \n",
       "───── + ─────\n",
       "a + 3   a + 2"
      ],
      "image/png": "[encoded data removed]",
      "text/latex": "$$\\frac{1}{a + 3} + \\frac{1}{a + 2}$$"
     },
     "metadata": {},
     "execution_count": 61
    }
   ],
   "source": [
    "f2 = 1/(a+2) + 1/(a+3)\n",
    "f2"
   ]
  },
  {
   "cell_type": "code",
   "execution_count": 64,
   "metadata": {},
   "outputs": [
    {
     "output_type": "execute_result",
     "data": {
      "text/plain": [
       "    2⋅a + 5    \n",
       "───────────────\n",
       "(a + 2)⋅(a + 3)"
      ],
      "image/png": "[encoded data removed]",
      "text/latex": "$$\\frac{2 a + 5}{\\left(a + 2\\right) \\left(a + 3\\right)}$$"
     },
     "metadata": {},
     "execution_count": 64
    }
   ],
   "source": [
    "together(f2)"
   ]
  },
  {
   "cell_type": "code",
   "execution_count": 65,
   "metadata": {},
   "outputs": [
    {
     "output_type": "execute_result",
     "data": {
      "text/plain": [
       "    2⋅a + 5    \n",
       "───────────────\n",
       "(a + 2)⋅(a + 3)"
      ],
      "image/png": "[encoded data removed]",
      "text/latex": "$$\\frac{2 a + 5}{\\left(a + 2\\right) \\left(a + 3\\right)}$$"
     },
     "metadata": {},
     "execution_count": 65
    }
   ],
   "source": [
    "simplify(f2)"
   ]
  },
  {
   "source": [
    "## Calculus"
   ],
   "cell_type": "markdown",
   "metadata": {}
  },
  {
   "cell_type": "code",
   "execution_count": 66,
   "metadata": {},
   "outputs": [
    {
     "output_type": "execute_result",
     "data": {
      "text/plain": [
       "       2\n",
       "(x + π) "
      ],
      "image/png": "[encoded data removed]",
      "text/latex": "$$\\left(x + \\pi\\right)^{2}$$"
     },
     "metadata": {},
     "execution_count": 66
    }
   ],
   "source": [
    "y"
   ]
  },
  {
   "source": [
    "### Differentiation"
   ],
   "cell_type": "markdown",
   "metadata": {}
  },
  {
   "cell_type": "code",
   "execution_count": 68,
   "metadata": {},
   "outputs": [
    {
     "output_type": "execute_result",
     "data": {
      "text/plain": [
       "         3\n",
       "4⋅(x + π) "
      ],
      "image/png": "[encoded data removed]",
      "text/latex": "$$4 \\left(x + \\pi\\right)^{3}$$"
     },
     "metadata": {},
     "execution_count": 68
    }
   ],
   "source": [
    "diff(y**2, x)"
   ]
  },
  {
   "cell_type": "code",
   "execution_count": 69,
   "metadata": {},
   "outputs": [
    {
     "output_type": "execute_result",
     "data": {
      "text/plain": [
       "          2\n",
       "12⋅(x + π) "
      ],
      "image/png": "[encoded data removed]",
      "text/latex": "$$12 \\left(x + \\pi\\right)^{2}$$"
     },
     "metadata": {},
     "execution_count": 69
    }
   ],
   "source": [
    "diff(y**2, x, x)"
   ]
  },
  {
   "cell_type": "code",
   "execution_count": 77,
   "metadata": {},
   "outputs": [
    {
     "output_type": "execute_result",
     "data": {
      "text/plain": [
       "0"
      ],
      "image/png": "[encoded data removed]",
      "text/latex": "$$0$$"
     },
     "metadata": {},
     "execution_count": 77
    }
   ],
   "source": [
    "diff(y**2, x, x, x)"
   ]
  },
  {
   "source": [
    "For multivariate expressions"
   ],
   "cell_type": "markdown",
   "metadata": {}
  },
  {
   "cell_type": "code",
   "execution_count": 73,
   "metadata": {},
   "outputs": [],
   "source": [
    "x, y, z = symbols(\"x,y,z\")"
   ]
  },
  {
   "cell_type": "code",
   "execution_count": 74,
   "metadata": {},
   "outputs": [],
   "source": [
    "f = sin(x*y) + cos(y*z)"
   ]
  },
  {
   "source": [
    "$\\frac{d^3f}{dxdy^2}$"
   ],
   "cell_type": "markdown",
   "metadata": {}
  },
  {
   "cell_type": "code",
   "execution_count": 75,
   "metadata": {},
   "outputs": [
    {
     "output_type": "execute_result",
     "data": {
      "text/plain": [
       "-x⋅(x⋅y⋅cos(x⋅y) + 2⋅sin(x⋅y))"
      ],
      "image/png": "[encoded data removed]",
      "text/latex": "$$- x \\left(x y \\cos{\\left (x y \\right )} + 2 \\sin{\\left (x y \\right )}\\right)$$"
     },
     "metadata": {},
     "execution_count": 75
    }
   ],
   "source": [
    "diff(f, x, 1, y, 2)"
   ]
  },
  {
   "source": [
    "### Integration"
   ],
   "cell_type": "markdown",
   "metadata": {}
  },
  {
   "cell_type": "code",
   "execution_count": 78,
   "metadata": {},
   "outputs": [
    {
     "output_type": "execute_result",
     "data": {
      "text/plain": [
       "sin(x⋅y) + cos(y⋅z)"
      ],
      "image/png": "[encoded data removed]",
      "text/latex": "$$\\sin{\\left (x y \\right )} + \\cos{\\left (y z \\right )}$$"
     },
     "metadata": {},
     "execution_count": 78
    }
   ],
   "source": [
    "f"
   ]
  },
  {
   "cell_type": "code",
   "execution_count": 80,
   "metadata": {},
   "outputs": [
    {
     "output_type": "execute_result",
     "data": {
      "text/plain": [
       "             ⎛⎧-cos(x⋅y)            ⎞\n",
       "             ⎜⎪──────────  for y ≠ 0⎟\n",
       "x⋅cos(y⋅z) + ⎜⎨    y                ⎟\n",
       "             ⎜⎪                     ⎟\n",
       "             ⎝⎩    0       otherwise⎠"
      ],
      "image/png": "[encoded data removed]",
      "text/latex": "$$x \\cos{\\left (y z \\right )} + \\begin{cases} - \\frac{\\cos{\\left (x y \\right )}}{y} & \\text{for}\\: y \\neq 0 \\\\0 & \\text{otherwise} \\end{cases}$$"
     },
     "metadata": {},
     "execution_count": 80
    }
   ],
   "source": [
    "integrate(f, x)"
   ]
  },
  {
   "cell_type": "code",
   "execution_count": 81,
   "metadata": {},
   "outputs": [
    {
     "output_type": "execute_result",
     "data": {
      "text/plain": [
       "2⋅cos(y⋅z)"
      ],
      "image/png": "[encoded data removed]",
      "text/latex": "$$2 \\cos{\\left (y z \\right )}$$"
     },
     "metadata": {},
     "execution_count": 81
    }
   ],
   "source": [
    "integrate(f, (x, -1, 1))"
   ]
  },
  {
   "source": [
    "`oo` is the symbol for infinity ($\\infty$)"
   ],
   "cell_type": "markdown",
   "metadata": {}
  },
  {
   "cell_type": "code",
   "execution_count": 82,
   "metadata": {},
   "outputs": [
    {
     "output_type": "execute_result",
     "data": {
      "text/plain": [
       "√π"
      ],
      "image/png": "[encoded data removed]",
      "text/latex": "$$\\sqrt{\\pi}$$"
     },
     "metadata": {},
     "execution_count": 82
    }
   ],
   "source": [
    "integrate(exp(-x**2), (x, -oo, oo))"
   ]
  },
  {
   "source": [
    "### Sums and Products"
   ],
   "cell_type": "markdown",
   "metadata": {}
  },
  {
   "cell_type": "code",
   "execution_count": 83,
   "metadata": {},
   "outputs": [],
   "source": [
    "n = Symbol(\"n\")"
   ]
  },
  {
   "cell_type": "code",
   "execution_count": 84,
   "metadata": {},
   "outputs": [
    {
     "output_type": "execute_result",
     "data": {
      "text/plain": [
       "  10    \n",
       " ____   \n",
       " ╲      \n",
       "  ╲   1 \n",
       "   ╲  ──\n",
       "   ╱   2\n",
       "  ╱   n \n",
       " ╱      \n",
       " ‾‾‾‾   \n",
       "n = 1   "
      ],
      "image/png": "[encoded data removed]",
      "text/latex": "$$\\sum_{n=1}^{10} \\frac{1}{n^{2}}$$"
     },
     "metadata": {},
     "execution_count": 84
    }
   ],
   "source": [
    "Sum(1/n**2, (n, 1, 10))"
   ]
  },
  {
   "cell_type": "code",
   "execution_count": 85,
   "metadata": {},
   "outputs": [
    {
     "output_type": "execute_result",
     "data": {
      "text/plain": [
       "1.54976773116654"
      ],
      "image/png": "[encoded data removed]",
      "text/latex": "$$1.54976773116654$$"
     },
     "metadata": {},
     "execution_count": 85
    }
   ],
   "source": [
    "Sum(1/n**2, (n,1, 10)).evalf()"
   ]
  },
  {
   "cell_type": "code",
   "execution_count": 86,
   "metadata": {},
   "outputs": [
    {
     "output_type": "execute_result",
     "data": {
      "text/plain": [
       "  ∞     \n",
       " ____   \n",
       " ╲      \n",
       "  ╲   1 \n",
       "   ╲  ──\n",
       "   ╱   2\n",
       "  ╱   n \n",
       " ╱      \n",
       " ‾‾‾‾   \n",
       "n = 1   "
      ],
      "image/png": "[encoded data removed]",
      "text/latex": "$$\\sum_{n=1}^{\\infty} \\frac{1}{n^{2}}$$"
     },
     "metadata": {},
     "execution_count": 86
    }
   ],
   "source": [
    "Sum(1/n**2, (n, 1, oo))"
   ]
  },
  {
   "cell_type": "code",
   "execution_count": 87,
   "metadata": {},
   "outputs": [
    {
     "output_type": "execute_result",
     "data": {
      "text/plain": [
       "1.64493406684823"
      ],
      "image/png": "[encoded data removed]",
      "text/latex": "$$1.64493406684823$$"
     },
     "metadata": {},
     "execution_count": 87
    }
   ],
   "source": [
    "Sum(1/n**2, (n, 1, oo)).evalf()"
   ]
  },
  {
   "cell_type": "code",
   "execution_count": 88,
   "metadata": {},
   "outputs": [
    {
     "output_type": "execute_result",
     "data": {
      "text/plain": [
       "  10   \n",
       "┬───┬  \n",
       "│   │ n\n",
       "│   │  \n",
       "n = 1  "
      ],
      "image/png": "[encoded data removed]",
      "text/latex": "$$\\prod_{n=1}^{10} n$$"
     },
     "metadata": {},
     "execution_count": 88
    }
   ],
   "source": [
    "Product(n, (n, 1, 10))"
   ]
  },
  {
   "source": [
    "## Limits"
   ],
   "cell_type": "markdown",
   "metadata": {}
  },
  {
   "cell_type": "code",
   "execution_count": 95,
   "metadata": {},
   "outputs": [
    {
     "output_type": "execute_result",
     "data": {
      "text/plain": [
       "1"
      ],
      "image/png": "[encoded data removed]",
      "text/latex": "$$1$$"
     },
     "metadata": {},
     "execution_count": 95
    }
   ],
   "source": [
    "limit(sin(x)/x, x, 0)"
   ]
  },
  {
   "cell_type": "code",
   "execution_count": 97,
   "metadata": {},
   "outputs": [
    {
     "output_type": "execute_result",
     "data": {
      "text/plain": [
       "∞"
      ],
      "image/png": "[encoded data removed]",
      "text/latex": "$$\\infty$$"
     },
     "metadata": {},
     "execution_count": 97
    }
   ],
   "source": [
    "limit(1/x, x, 0, dir=\"+\")"
   ]
  },
  {
   "cell_type": "code",
   "execution_count": 98,
   "metadata": {},
   "outputs": [
    {
     "output_type": "execute_result",
     "data": {
      "text/plain": [
       "-∞"
      ],
      "image/png": "[encoded data removed]",
      "text/latex": "$$-\\infty$$"
     },
     "metadata": {},
     "execution_count": 98
    }
   ],
   "source": [
    "limit(1/x, x, 0, dir=\"-\")"
   ]
  },
  {
   "source": [
    "## Series"
   ],
   "cell_type": "markdown",
   "metadata": {}
  },
  {
   "cell_type": "code",
   "execution_count": 99,
   "metadata": {},
   "outputs": [
    {
     "output_type": "execute_result",
     "data": {
      "text/plain": [
       "         2    3    4     5        \n",
       "        x    x    x     x     ⎛ 6⎞\n",
       "1 + x + ── + ── + ── + ─── + O⎝x ⎠\n",
       "        2    6    24   120        "
      ],
      "image/png": "[encoded data removed]",
      "text/latex": "$$1 + x + \\frac{x^{2}}{2} + \\frac{x^{3}}{6} + \\frac{x^{4}}{24} + \\frac{x^{5}}{120} + O\\left(x^{6}\\right)$$"
     },
     "metadata": {},
     "execution_count": 99
    }
   ],
   "source": [
    "series(exp(x), x)"
   ]
  },
  {
   "cell_type": "code",
   "execution_count": 100,
   "metadata": {},
   "outputs": [
    {
     "output_type": "execute_result",
     "data": {
      "text/plain": [
       "                         2            3            4            5             \n",
       "                ℯ⋅(x - 1)    ℯ⋅(x - 1)    ℯ⋅(x - 1)    ℯ⋅(x - 1)     ⎛       6\n",
       "ℯ + ℯ⋅(x - 1) + ────────── + ────────── + ────────── + ────────── + O⎝(x - 1) \n",
       "                    2            6            24          120                 \n",
       "\n",
       "        \n",
       "       ⎞\n",
       "; x → 1⎠\n",
       "        "
      ],
      "image/png": "[encoded data removed]",
      "text/latex": "$$e + e \\left(x - 1\\right) + \\frac{e \\left(x - 1\\right)^{2}}{2} + \\frac{e \\left(x - 1\\right)^{3}}{6} + \\frac{e \\left(x - 1\\right)^{4}}{24} + \\frac{e \\left(x - 1\\right)^{5}}{120} + O\\left(\\left(x - 1\\right)^{6}; x\\rightarrow 1\\right)$$"
     },
     "metadata": {},
     "execution_count": 100
    }
   ],
   "source": [
    "series(exp(x), x, 1)"
   ]
  },
  {
   "cell_type": "code",
   "execution_count": 101,
   "metadata": {},
   "outputs": [
    {
     "output_type": "execute_result",
     "data": {
      "text/plain": [
       "                         2            3            4            5            6\n",
       "                ℯ⋅(x - 1)    ℯ⋅(x - 1)    ℯ⋅(x - 1)    ℯ⋅(x - 1)    ℯ⋅(x - 1) \n",
       "ℯ + ℯ⋅(x - 1) + ────────── + ────────── + ────────── + ────────── + ──────────\n",
       "                    2            6            24          120          720    \n",
       "\n",
       "            7            8            9                      \n",
       "   ℯ⋅(x - 1)    ℯ⋅(x - 1)    ℯ⋅(x - 1)     ⎛       10       ⎞\n",
       " + ────────── + ────────── + ────────── + O⎝(x - 1)  ; x → 1⎠\n",
       "      5040        40320        362880                        "
      ],
      "image/png": "[encoded data removed]",
      "text/latex": "$$e + e \\left(x - 1\\right) + \\frac{e \\left(x - 1\\right)^{2}}{2} + \\frac{e \\left(x - 1\\right)^{3}}{6} + \\frac{e \\left(x - 1\\right)^{4}}{24} + \\frac{e \\left(x - 1\\right)^{5}}{120} + \\frac{e \\left(x - 1\\right)^{6}}{720} + \\frac{e \\left(x - 1\\right)^{7}}{5040} + \\frac{e \\left(x - 1\\right)^{8}}{40320} + \\frac{e \\left(x - 1\\right)^{9}}{362880} + O\\left(\\left(x - 1\\right)^{10}; x\\rightarrow 1\\right)$$"
     },
     "metadata": {},
     "execution_count": 101
    }
   ],
   "source": [
    "series(exp(x), x, 1, 10)"
   ]
  },
  {
   "cell_type": "code",
   "execution_count": 115,
   "metadata": {},
   "outputs": [
    {
     "output_type": "execute_result",
     "data": {
      "text/plain": [
       "     2    4        \n",
       "    x    x     ⎛ 5⎞\n",
       "1 - ── + ── + O⎝x ⎠\n",
       "    2    24        "
      ],
      "image/png": "[encoded data removed]",
      "text/latex": "$$1 - \\frac{x^{2}}{2} + \\frac{x^{4}}{24} + O\\left(x^{5}\\right)$$"
     },
     "metadata": {},
     "execution_count": 115
    }
   ],
   "source": [
    "s1 = cos(x).series(x, 0, 5)\n",
    "s1"
   ]
  },
  {
   "cell_type": "code",
   "execution_count": 116,
   "metadata": {},
   "outputs": [
    {
     "output_type": "execute_result",
     "data": {
      "text/plain": [
       "     ⎛ 2⎞\n",
       "x + O⎝x ⎠"
      ],
      "image/png": "[encoded data removed]",
      "text/latex": "$$x + O\\left(x^{2}\\right)$$"
     },
     "metadata": {},
     "execution_count": 116
    }
   ],
   "source": [
    "s2 = sin(x).series(x, 0, 2)\n",
    "s2"
   ]
  },
  {
   "cell_type": "code",
   "execution_count": 117,
   "metadata": {},
   "outputs": [
    {
     "output_type": "execute_result",
     "data": {
      "text/plain": [
       "     ⎛ 2⎞\n",
       "x + O⎝x ⎠"
      ],
      "image/png": "[encoded data removed]",
      "text/latex": "$$x + O\\left(x^{2}\\right)$$"
     },
     "metadata": {},
     "execution_count": 117
    }
   ],
   "source": [
    "expand(s1 * s2)"
   ]
  },
  {
   "cell_type": "code",
   "execution_count": 118,
   "metadata": {},
   "outputs": [
    {
     "output_type": "execute_result",
     "data": {
      "text/plain": [
       " 5    3    \n",
       "x    x     \n",
       "── - ── + x\n",
       "24   2     "
      ],
      "image/png": "[encoded data removed]",
      "text/latex": "$$\\frac{x^{5}}{24} - \\frac{x^{3}}{2} + x$$"
     },
     "metadata": {},
     "execution_count": 118
    }
   ],
   "source": [
    "expand(s1.removeO() * s2.removeO())  # Note this is not the correct expansion to the 5th term"
   ]
  },
  {
   "cell_type": "code",
   "execution_count": 119,
   "metadata": {},
   "outputs": [
    {
     "output_type": "execute_result",
     "data": {
      "text/plain": [
       "       3      5        \n",
       "    2⋅x    2⋅x     ⎛ 6⎞\n",
       "x - ──── + ──── + O⎝x ⎠\n",
       "     3      15         "
      ],
      "image/png": "[encoded data removed]",
      "text/latex": "$$x - \\frac{2 x^{3}}{3} + \\frac{2 x^{5}}{15} + O\\left(x^{6}\\right)$$"
     },
     "metadata": {},
     "execution_count": 119
    }
   ],
   "source": [
    "(cos(x)*sin(x)).series(x, 0, 6)"
   ]
  },
  {
   "source": [
    "## Linear Algebra"
   ],
   "cell_type": "markdown",
   "metadata": {}
  },
  {
   "source": [
    "### Matricies"
   ],
   "cell_type": "markdown",
   "metadata": {}
  },
  {
   "cell_type": "code",
   "execution_count": 121,
   "metadata": {},
   "outputs": [],
   "source": [
    "m11, m12, m21, m22 = symbols(\"m11, m12, m21, m22\")\n",
    "b1, b2 = symbols(\"b1, b2\")"
   ]
  },
  {
   "cell_type": "code",
   "execution_count": 122,
   "metadata": {},
   "outputs": [
    {
     "output_type": "execute_result",
     "data": {
      "text/plain": [
       "⎡m₁₁  m₁₂⎤\n",
       "⎢        ⎥\n",
       "⎣m₂₁  m₂₂⎦"
      ],
      "image/png": "[encoded data removed]",
      "text/latex": "$$\\left[\\begin{matrix}m_{11} & m_{12}\\\\m_{21} & m_{22}\\end{matrix}\\right]$$"
     },
     "metadata": {},
     "execution_count": 122
    }
   ],
   "source": [
    "A = Matrix([[m11, m12],[m21, m22]])\n",
    "A"
   ]
  },
  {
   "cell_type": "code",
   "execution_count": 123,
   "metadata": {},
   "outputs": [
    {
     "output_type": "execute_result",
     "data": {
      "text/plain": [
       "⎡b₁⎤\n",
       "⎢  ⎥\n",
       "⎣b₂⎦"
      ],
      "image/png": "[encoded data removed]",
      "text/latex": "$$\\left[\\begin{matrix}b_{1}\\\\b_{2}\\end{matrix}\\right]$$"
     },
     "metadata": {},
     "execution_count": 123
    }
   ],
   "source": [
    "b = Matrix([[b1], [b2]])\n",
    "b"
   ]
  },
  {
   "cell_type": "code",
   "execution_count": 124,
   "metadata": {},
   "outputs": [
    {
     "output_type": "execute_result",
     "data": {
      "text/plain": [
       "⎡    2                               ⎤\n",
       "⎢ m₁₁  + m₁₂⋅m₂₁    m₁₁⋅m₁₂ + m₁₂⋅m₂₂⎥\n",
       "⎢                                    ⎥\n",
       "⎢                                 2  ⎥\n",
       "⎣m₁₁⋅m₂₁ + m₂₁⋅m₂₂   m₁₂⋅m₂₁ + m₂₂   ⎦"
      ],
      "image/png": "[encoded data removed]",
      "text/latex": "$$\\left[\\begin{matrix}m_{11}^{2} + m_{12} m_{21} & m_{11} m_{12} + m_{12} m_{22}\\\\m_{11} m_{21} + m_{21} m_{22} & m_{12} m_{21} + m_{22}^{2}\\end{matrix}\\right]$$"
     },
     "metadata": {},
     "execution_count": 124
    }
   ],
   "source": [
    "A**2"
   ]
  },
  {
   "cell_type": "code",
   "execution_count": 125,
   "metadata": {},
   "outputs": [
    {
     "output_type": "execute_result",
     "data": {
      "text/plain": [
       "⎡b₁⋅m₁₁ + b₂⋅m₁₂⎤\n",
       "⎢               ⎥\n",
       "⎣b₁⋅m₂₁ + b₂⋅m₂₂⎦"
      ],
      "image/png": "[encoded data removed]",
      "text/latex": "$$\\left[\\begin{matrix}b_{1} m_{11} + b_{2} m_{12}\\\\b_{1} m_{21} + b_{2} m_{22}\\end{matrix}\\right]$$"
     },
     "metadata": {},
     "execution_count": 125
    }
   ],
   "source": [
    "A*b"
   ]
  },
  {
   "cell_type": "code",
   "execution_count": 126,
   "metadata": {},
   "outputs": [
    {
     "output_type": "execute_result",
     "data": {
      "text/plain": [
       "m₁₁⋅m₂₂ - m₁₂⋅m₂₁"
      ],
      "image/png": "[encoded data removed]",
      "text/latex": "$$m_{11} m_{22} - m_{12} m_{21}$$"
     },
     "metadata": {},
     "execution_count": 126
    }
   ],
   "source": [
    "A.det()"
   ]
  },
  {
   "cell_type": "code",
   "execution_count": 129,
   "metadata": {},
   "outputs": [
    {
     "output_type": "execute_result",
     "data": {
      "text/plain": [
       "⎡       m₂₂               -m₁₂       ⎤\n",
       "⎢─────────────────  ─────────────────⎥\n",
       "⎢m₁₁⋅m₂₂ - m₁₂⋅m₂₁  m₁₁⋅m₂₂ - m₁₂⋅m₂₁⎥\n",
       "⎢                                    ⎥\n",
       "⎢      -m₂₁                m₁₁       ⎥\n",
       "⎢─────────────────  ─────────────────⎥\n",
       "⎣m₁₁⋅m₂₂ - m₁₂⋅m₂₁  m₁₁⋅m₂₂ - m₁₂⋅m₂₁⎦"
      ],
      "image/png": "[encoded data removed]",
      "text/latex": "$$\\left[\\begin{matrix}\\frac{m_{22}}{m_{11} m_{22} - m_{12} m_{21}} & - \\frac{m_{12}}{m_{11} m_{22} - m_{12} m_{21}}\\\\- \\frac{m_{21}}{m_{11} m_{22} - m_{12} m_{21}} & \\frac{m_{11}}{m_{11} m_{22} - m_{12} m_{21}}\\end{matrix}\\right]$$"
     },
     "metadata": {},
     "execution_count": 129
    }
   ],
   "source": [
    "A.inv()"
   ]
  },
  {
   "source": [
    "## Solving equations"
   ],
   "cell_type": "markdown",
   "metadata": {}
  },
  {
   "cell_type": "code",
   "execution_count": 130,
   "metadata": {},
   "outputs": [
    {
     "output_type": "execute_result",
     "data": {
      "text/plain": [
       "[-1, 1]"
      ],
      "image/png": "[encoded data removed]",
      "text/latex": "$$\\left [ -1, \\quad 1\\right ]$$"
     },
     "metadata": {},
     "execution_count": 130
    }
   ],
   "source": [
    "solve(x**2-1,x)"
   ]
  },
  {
   "cell_type": "code",
   "execution_count": 131,
   "metadata": {},
   "outputs": [
    {
     "output_type": "execute_result",
     "data": {
      "text/plain": [
       "⎡       __________        __________       ________      ________⎤\n",
       "⎢      ╱   1   √5        ╱   1   √5       ╱ 1   √5      ╱ 1   √5 ⎥\n",
       "⎢-ⅈ⋅  ╱  - ─ + ── , ⅈ⋅  ╱  - ─ + ── , -  ╱  ─ + ── ,   ╱  ─ + ── ⎥\n",
       "⎣   ╲╱     2   2      ╲╱     2   2     ╲╱   2   2    ╲╱   2   2  ⎦"
      ],
      "image/png": "[encoded data removed]",
      "text/latex": "$$\\left [ - i \\sqrt{- \\frac{1}{2} + \\frac{\\sqrt{5}}{2}}, \\quad i \\sqrt{- \\frac{1}{2} + \\frac{\\sqrt{5}}{2}}, \\quad - \\sqrt{\\frac{1}{2} + \\frac{\\sqrt{5}}{2}}, \\quad \\sqrt{\\frac{1}{2} + \\frac{\\sqrt{5}}{2}}\\right ]$$"
     },
     "metadata": {},
     "execution_count": 131
    }
   ],
   "source": [
    "solve(x**4 - x**2 - 1, x)"
   ]
  },
  {
   "cell_type": "code",
   "execution_count": 132,
   "metadata": {},
   "outputs": [
    {
     "output_type": "execute_result",
     "data": {
      "text/plain": [
       "{x: 1, y: 0}"
      ],
      "image/png": "[encoded data removed]",
      "text/latex": "$$\\left \\{ x : 1, \\quad y : 0\\right \\}$$"
     },
     "metadata": {},
     "execution_count": 132
    }
   ],
   "source": [
    "solve([x + y - 1, x - y - 1], [x,y])"
   ]
  },
  {
   "cell_type": "code",
   "execution_count": 133,
   "metadata": {},
   "outputs": [
    {
     "output_type": "execute_result",
     "data": {
      "text/plain": [
       "⎧   a   c     a   c⎫\n",
       "⎨x: ─ + ─, y: ─ - ─⎬\n",
       "⎩   2   2     2   2⎭"
      ],
      "image/png": "[encoded data removed]",
      "text/latex": "$$\\left \\{ x : \\frac{a}{2} + \\frac{c}{2}, \\quad y : \\frac{a}{2} - \\frac{c}{2}\\right \\}$$"
     },
     "metadata": {},
     "execution_count": 133
    }
   ],
   "source": [
    "solve([x + y - a, x - y - c], [x,y])"
   ]
  },
  {
   "source": [
    "# Quantum Mechanics"
   ],
   "cell_type": "markdown",
   "metadata": {}
  },
  {
   "cell_type": "code",
   "execution_count": 134,
   "metadata": {},
   "outputs": [],
   "source": [
    "from sympy.physics.quantum import *"
   ]
  },
  {
   "source": [
    "## States"
   ],
   "cell_type": "markdown",
   "metadata": {}
  },
  {
   "cell_type": "code",
   "execution_count": 135,
   "metadata": {},
   "outputs": [
    {
     "output_type": "execute_result",
     "data": {
      "text/plain": [
       "❘ψ⟩"
      ],
      "image/png": "[encoded data removed]",
      "text/latex": "$${\\left|\\psi\\right\\rangle }$$"
     },
     "metadata": {},
     "execution_count": 135
    }
   ],
   "source": [
    "Ket(\"psi\")"
   ]
  },
  {
   "cell_type": "code",
   "execution_count": 136,
   "metadata": {},
   "outputs": [
    {
     "output_type": "execute_result",
     "data": {
      "text/plain": [
       "⟨ψ❘"
      ],
      "image/png": "[encoded data removed]",
      "text/latex": "$${\\left\\langle \\psi\\right|}$$"
     },
     "metadata": {},
     "execution_count": 136
    }
   ],
   "source": [
    "Bra(\"psi\")"
   ]
  },
  {
   "cell_type": "code",
   "execution_count": 137,
   "metadata": {},
   "outputs": [],
   "source": [
    "u = Ket('0')\n",
    "d = Ket('1')\n",
    "\n",
    "a, b = symbols('alpha beta', complex=True)"
   ]
  },
  {
   "cell_type": "code",
   "execution_count": 145,
   "metadata": {},
   "outputs": [
    {
     "output_type": "execute_result",
     "data": {
      "text/plain": [
       "           ____________    \n",
       "          ╱      2         \n",
       "α⋅❘0⟩ + ╲╱  - │α│  + 1 ⋅❘1⟩"
      ],
      "image/png": "[encoded data removed]",
      "text/latex": "$$\\alpha {\\left|0\\right\\rangle } + \\sqrt{- \\left|{\\alpha}\\right|^{2} + 1} {\\left|1\\right\\rangle }$$"
     },
     "metadata": {},
     "execution_count": 145
    }
   ],
   "source": [
    "phi = a * u + sqrt(1-abs(a)**2) * d\n",
    "phi"
   ]
  },
  {
   "cell_type": "code",
   "execution_count": 146,
   "metadata": {},
   "outputs": [
    {
     "output_type": "execute_result",
     "data": {
      "text/plain": [
       "        _______________    \n",
       "           ____________    \n",
       "_         ╱      2         \n",
       "α⋅⟨0❘ + ╲╱  - │α│  + 1 ⋅⟨1❘"
      ],
      "image/png": "[encoded data removed]",
      "text/latex": "$$\\overline{\\alpha} {\\left\\langle 0\\right|} + \\overline{\\sqrt{- \\left|{\\alpha}\\right|^{2} + 1}} {\\left\\langle 1\\right|}$$"
     },
     "metadata": {},
     "execution_count": 146
    }
   ],
   "source": [
    "Dagger(phi)"
   ]
  },
  {
   "cell_type": "code",
   "execution_count": 148,
   "metadata": {},
   "outputs": [
    {
     "output_type": "execute_result",
     "data": {
      "text/plain": [
       "⎛        _______________    ⎞    \n",
       "⎜           ____________    ⎟    \n",
       "⎜_         ╱      2         ⎟    \n",
       "⎝α⋅⟨0❘ + ╲╱  - │α│  + 1 ⋅⟨1❘⎠⋅❘1⟩"
      ],
      "image/png": "[encoded data removed]",
      "text/latex": "$$\\left(\\overline{\\alpha} {\\left\\langle 0\\right|} + \\overline{\\sqrt{- \\left|{\\alpha}\\right|^{2} + 1}} {\\left\\langle 1\\right|}\\right) {\\left|1\\right\\rangle }$$"
     },
     "metadata": {},
     "execution_count": 148
    }
   ],
   "source": [
    "Dagger(phi)*d"
   ]
  },
  {
   "cell_type": "code",
   "execution_count": 149,
   "metadata": {},
   "outputs": [
    {
     "output_type": "execute_result",
     "data": {
      "text/plain": [
       "          _______________      \n",
       "             ____________      \n",
       "_           ╱      2           \n",
       "α⋅⟨0❘1⟩ + ╲╱  - │α│  + 1 ⋅⟨1❘1⟩"
      ],
      "image/png": "[encoded data removed]",
      "text/latex": "$$\\overline{\\alpha} \\left\\langle 0 \\right. {\\left|1\\right\\rangle } + \\overline{\\sqrt{- \\left|{\\alpha}\\right|^{2} + 1}} \\left\\langle 1 \\right. {\\left|1\\right\\rangle }$$"
     },
     "metadata": {},
     "execution_count": 149
    }
   ],
   "source": [
    "qapply(Dagger(phi)*d)"
   ]
  },
  {
   "cell_type": "code",
   "execution_count": 150,
   "metadata": {},
   "outputs": [
    {
     "output_type": "execute_result",
     "data": {
      "text/plain": [
       "          _______________      \n",
       "             ____________      \n",
       "_           ╱      2           \n",
       "α⋅⟨0❘0⟩ + ╲╱  - │α│  + 1 ⋅⟨1❘0⟩"
      ],
      "image/png": "[encoded data removed]",
      "text/latex": "$$\\overline{\\alpha} \\left\\langle 0 \\right. {\\left|0\\right\\rangle } + \\overline{\\sqrt{- \\left|{\\alpha}\\right|^{2} + 1}} \\left\\langle 1 \\right. {\\left|0\\right\\rangle }$$"
     },
     "metadata": {},
     "execution_count": 150
    }
   ],
   "source": [
    "qapply(Dagger(phi) * u)"
   ]
  },
  {
   "cell_type": "code",
   "execution_count": 152,
   "metadata": {},
   "outputs": [],
   "source": [
    "A = Operator(\"A\")\n",
    "B = Operator(\"B\")"
   ]
  },
  {
   "cell_type": "code",
   "execution_count": 153,
   "metadata": {},
   "outputs": [
    {
     "output_type": "execute_result",
     "data": {
      "text/plain": [
       "False"
      ]
     },
     "metadata": {},
     "execution_count": 153
    }
   ],
   "source": [
    "A * B == B * A"
   ]
  },
  {
   "cell_type": "code",
   "execution_count": 154,
   "metadata": {},
   "outputs": [
    {
     "output_type": "execute_result",
     "data": {
      "text/plain": [
       "           2    2      3              2    2      3\n",
       "A⋅B⋅A + A⋅B  + A ⋅B + A  + B⋅A⋅B + B⋅A  + B ⋅A + B "
      ],
      "image/png": "[encoded data removed]",
      "text/latex": "$$A B A + A B^{2} + A^{2} B + A^{3} + B A B + B A^{2} + B^{2} A + B^{3}$$"
     },
     "metadata": {},
     "execution_count": 154
    }
   ],
   "source": [
    "expand((A+B)**3)"
   ]
  },
  {
   "cell_type": "code",
   "execution_count": 155,
   "metadata": {},
   "outputs": [
    {
     "output_type": "execute_result",
     "data": {
      "text/plain": [
       "[A,B]"
      ],
      "image/png": "[encoded data removed]",
      "text/latex": "$$\\left[A,B\\right]$$"
     },
     "metadata": {},
     "execution_count": 155
    }
   ],
   "source": [
    "c = Commutator(A,B)\n",
    "c"
   ]
  },
  {
   "cell_type": "code",
   "execution_count": 156,
   "metadata": {},
   "outputs": [
    {
     "output_type": "execute_result",
     "data": {
      "text/plain": [
       "A⋅B - B⋅A"
      ],
      "image/png": "[encoded data removed]",
      "text/latex": "$$A B - B A$$"
     },
     "metadata": {},
     "execution_count": 156
    }
   ],
   "source": [
    "c.doit()"
   ]
  },
  {
   "cell_type": "code",
   "execution_count": 159,
   "metadata": {},
   "outputs": [
    {
     "output_type": "display_data",
     "data": {
      "text/plain": "α",
      "image/png": "[encoded data removed]",
      "text/latex": "$$\\alpha$$"
     },
     "metadata": {}
    },
    {
     "output_type": "display_data",
     "data": {
      "text/plain": "β",
      "image/png": "[encoded data removed]",
      "text/latex": "$$\\beta$$"
     },
     "metadata": {}
    }
   ],
   "source": [
    "display(a)\n",
    "display(b)"
   ]
  },
  {
   "cell_type": "code",
   "execution_count": 157,
   "metadata": {},
   "outputs": [
    {
     "output_type": "execute_result",
     "data": {
      "text/plain": [
       "α⋅β⋅[A,B]"
      ],
      "image/png": "[encoded data removed]",
      "text/latex": "$$\\alpha \\beta \\left[A,B\\right]$$"
     },
     "metadata": {},
     "execution_count": 157
    }
   ],
   "source": [
    "c = Commutator(a * A, b * B)\n",
    "c"
   ]
  },
  {
   "cell_type": "code",
   "execution_count": 160,
   "metadata": {},
   "outputs": [
    {
     "output_type": "execute_result",
     "data": {
      "text/plain": [
       "-[A,B]⋅B + A⋅[A,B]"
      ],
      "image/png": "[encoded data removed]",
      "text/latex": "$$- \\left[A,B\\right] B + A \\left[A,B\\right]$$"
     },
     "metadata": {},
     "execution_count": 160
    }
   ],
   "source": [
    "c = Commutator(A+B, A*B)\n",
    "c.expand(commutator=True)"
   ]
  },
  {
   "cell_type": "code",
   "execution_count": 161,
   "metadata": {},
   "outputs": [
    {
     "output_type": "execute_result",
     "data": {
      "text/plain": [
       " ⎡ †  †⎤\n",
       "-⎣A ,B ⎦"
      ],
      "image/png": "[encoded data removed]",
      "text/latex": "$$- \\left[A^{\\dagger},B^{\\dagger}\\right]$$"
     },
     "metadata": {},
     "execution_count": 161
    }
   ],
   "source": [
    "Dagger(Commutator(A, B))"
   ]
  },
  {
   "cell_type": "code",
   "execution_count": 162,
   "metadata": {},
   "outputs": [],
   "source": [
    "ac = AntiCommutator(A,B)"
   ]
  },
  {
   "cell_type": "code",
   "execution_count": 163,
   "metadata": {},
   "outputs": [
    {
     "output_type": "execute_result",
     "data": {
      "text/plain": [
       "A⋅B + B⋅A"
      ],
      "image/png": "[encoded data removed]",
      "text/latex": "$$A B + B A$$"
     },
     "metadata": {},
     "execution_count": 163
    }
   ],
   "source": [
    "ac.doit()"
   ]
  },
  {
   "source": [
    "### Qudrature commutator"
   ],
   "cell_type": "markdown",
   "metadata": {}
  },
  {
   "cell_type": "code",
   "execution_count": 164,
   "metadata": {},
   "outputs": [
    {
     "output_type": "execute_result",
     "data": {
      "text/plain": [
       "   ⎛ †    ⎞\n",
       "√2⋅⎝A  + A⎠\n",
       "───────────\n",
       "     2     "
      ],
      "image/png": "[encoded data removed]",
      "text/latex": "$$\\frac{\\sqrt{2} \\left(A^{\\dagger} + A\\right)}{2}$$"
     },
     "metadata": {},
     "execution_count": 164
    }
   ],
   "source": [
    "X = (A + Dagger(A))/sqrt(2)\n",
    "X"
   ]
  },
  {
   "cell_type": "code",
   "execution_count": 165,
   "metadata": {},
   "outputs": [
    {
     "output_type": "execute_result",
     "data": {
      "text/plain": [
       "      ⎛   †    ⎞ \n",
       "-√2⋅ⅈ⋅⎝- A  + A⎠ \n",
       "─────────────────\n",
       "        2        "
      ],
      "image/png": "[encoded data removed]",
      "text/latex": "$$- \\frac{\\sqrt{2} i \\left(- A^{\\dagger} + A\\right)}{2}$$"
     },
     "metadata": {},
     "execution_count": 165
    }
   ],
   "source": [
    "P = -I * (A - Dagger(A))/sqrt(2)\n",
    "P"
   ]
  },
  {
   "cell_type": "code",
   "execution_count": 166,
   "metadata": {},
   "outputs": [
    {
     "output_type": "execute_result",
     "data": {
      "text/plain": [
       "   ⎡ †  ⎤\n",
       "-ⅈ⋅⎣A ,A⎦"
      ],
      "image/png": "[encoded data removed]",
      "text/latex": "$$- i \\left[A^{\\dagger},A\\right]$$"
     },
     "metadata": {},
     "execution_count": 166
    }
   ],
   "source": [
    "Commutator(X, P).expand(commutator=True).expand(commutator=True)"
   ]
  },
  {
   "cell_type": "code",
   "execution_count": null,
   "metadata": {},
   "outputs": [],
   "source": []
  }
 ]
}